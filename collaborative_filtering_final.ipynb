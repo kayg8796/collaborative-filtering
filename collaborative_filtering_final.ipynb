{
 "cells": [
  {
   "cell_type": "code",
   "execution_count": null,
   "metadata": {},
   "outputs": [],
   "source": [
    "import numpy as np\n",
    "from numpy.linalg import norm\n",
    "from numpy import dot"
   ]
  },
  {
   "cell_type": "code",
   "execution_count": null,
   "metadata": {},
   "outputs": [],
   "source": [
    "def main():\n",
    "    print('Recommendation System')\n",
    "    print('Please select operation\\n\\\n",
    "    1. Item based\\n\\\n",
    "    2. User based\\n\\\n",
    "    3. Hybrid')\n",
    "    k=int(input('Choice:'))\n",
    "    n = int(input('Please enter the number of clusters:'))\n",
    "    id=int(input('Enter user id:'))\n",
    "    if k == 1:\n",
    "        print('Please wait\\nGenerating Recommendations......')\n",
    "        arr=item_based(id,5,n)\n",
    "        printing(arr)\n",
    "    elif k==2:\n",
    "        print('Please wait\\nGenerating Recommendations......')\n",
    "        arr=user_based(id,5,n)\n",
    "        printing(arr)\n",
    "    elif k==3:\n",
    "        print('Please wait\\nGenerating Recommendations......')\n",
    "        arr=hybrid(id,n)\n",
    "        printing(arr)\n",
    "    else:\n",
    "        print('wrong input , try again!')\n",
    "        return main()\n",
    "    return \n",
    "\n",
    "def hybrid(id,n):\n",
    "    arr=[]\n",
    "    print('Collaborative Filtering: Hybrid mode')\n",
    "    arr1 = user_based(id,5,n)\n",
    "    arr.extend(arr1)\n",
    "    arr2= item_based(id,5,n)\n",
    "    arr.extend(arr2)\n",
    "    arr.sort(key=lambda x : x[1],reverse=True)\n",
    "    return arr[:20]\n",
    "\n",
    "def printing(arr):\n",
    "    print('TOP 20 MOST RECOMMENDED MOVIES FOR CHOSEN USER')\n",
    "    print('Movie title\\t\\t\\tRating')\n",
    "    for a in arr:\n",
    "        print(a)\n",
    "        "
   ]
  },
  {
   "cell_type": "code",
   "execution_count": null,
   "metadata": {},
   "outputs": [],
   "source": [
    "def item_based(id,n_hood,k):\n",
    "    movie_dic=[]\n",
    "    for i in range(k):\n",
    "        dfn=[]\n",
    "        with open('cluster'+str(i)+'.csv','r',buffering=4000000,encoding='utf-8') as file:\n",
    "                for line in file:\n",
    "                    dfn.append(line.replace('\\n','').split(','))\n",
    "        movie_dic.extend(item_wise(id,n_hood,dfn))\n",
    "        #print(i)\n",
    "    return sorted(movie_dic,key=lambda x: x[1],reverse=True)[:20]   #top 20 highly rated movies"
   ]
  },
  {
   "cell_type": "code",
   "execution_count": null,
   "metadata": {},
   "outputs": [],
   "source": [
    "def item_wise(id,n_hood,dfn):\n",
    "    rated=[]\n",
    "    unrated=[]\n",
    "    rates=[]\n",
    "    #id=9\n",
    "    for q in dfn:\n",
    "        if q[id]!='':\n",
    "            rated.append(q)\n",
    "            rates.append(float(q[id]))\n",
    "        else:\n",
    "            unrated.append(q)\n",
    "    #print(len(rated))\n",
    "    movies = {}\n",
    "    for y in unrated:\n",
    "        sim=[]\n",
    "        if len(rated)!=0:\n",
    "            if n_hood>len(rated):\n",
    "                n_hood=len(rated)      #making sure neighboorhood is not too large\n",
    "            for x,r in zip(rated,rates):\n",
    "                sim.append([pearson_corr(x[1:],y[1:])])  # sim, where is rate?\n",
    "                sim[-1].append(r)\n",
    "            sim_sorted=sorted(sim,key=lambda x:x[0],reverse=True)\n",
    "            rating = weighted_mean2(sim_sorted[:n_hood])\n",
    "            movies.update({y[0]:rating})\n",
    "        else:\n",
    "            movies.update({y[0]:1.0000})\n",
    "    return sorted(movies.items(),key=lambda x : x[1],reverse=True)[:20] #returning top 20 movies for cluster is list format"
   ]
  },
  {
   "cell_type": "code",
   "execution_count": null,
   "metadata": {},
   "outputs": [],
   "source": [
    "def user_wise(id,n_hood,dfn,user_vecs):\n",
    "    rated_id=[]\n",
    "    unrated=[]\n",
    "    for i in range(len(dfn)):\n",
    "        if dfn[i][id]=='':\n",
    "            unrated.append(dfn[i])     #movies not rated by user\n",
    "            rated_id.append(i)\n",
    "    movies={}\n",
    "    y=user_vecs[id-1]        #user vector\n",
    "\n",
    "    for i in range(len(unrated)):\n",
    "        #print(i)\n",
    "        rated=[user for user in user_vecs if user[rated_id[i]]!='']  # uv x if uv x has smtx in pot i\n",
    "        rates=[float(r[rated_id[i]]) for r in rated]\n",
    "        sim=[]\n",
    "        if len(rated)!=0:\n",
    "            if n_hood>len(rated):\n",
    "                n_hood=len(rated)      #making sure neighboorhood is not too large\n",
    "            for x,r in zip(rated,rates):\n",
    "                sim.append([pearson_corr(x,y)])  # sim, with user vectors\n",
    "                sim[-1].append(r)\n",
    "            sim_sorted=sorted(sim,key=lambda x:x[0],reverse=True)\n",
    "            rating = weighted_mean2(sim_sorted[:n_hood])\n",
    "            movies.update({unrated[i][0]:rating})\n",
    "        else:\n",
    "            movies.update({unrated[i][0]:1.0000})\n",
    "    return sorted(movies.items(),key=lambda x : x[1],reverse=True)[:20] #returning top 20 movies for cluster is list format"
   ]
  },
  {
   "cell_type": "code",
   "execution_count": null,
   "metadata": {},
   "outputs": [],
   "source": [
    "def pearson_corr(x,y):\n",
    "    xval = meanval(x)\n",
    "    yval = meanval(y)\n",
    "    #print(sum(yval))\n",
    "    return cosine_similarity(xval,yval)\n",
    "\n",
    "\n",
    "def cosine_similarity(v1,v2):\n",
    "    d=(norm(v1)*norm(v2))\n",
    "    #if d==0:\n",
    "    #return 0 #to handle the case of a very small dinominator\n",
    "    return dot(v1, v2)/d"
   ]
  },
  {
   "cell_type": "code",
   "execution_count": null,
   "metadata": {},
   "outputs": [],
   "source": [
    "import numpy as np\n",
    "def meanval(y):\n",
    "    re=np.zeros(len(y))\n",
    "    x=np.array(y)\n",
    "    id_val=np.where(x!='')\n",
    "    xr=np.array(x[id_val],dtype='float64')\n",
    "    if len(xr)!=0:\n",
    "        m=sum(xr)/len(xr)\n",
    "        xr-=m\n",
    "    x[np.where(x=='')]=0\n",
    "    re[id_val]=xr\n",
    "    return re"
   ]
  },
  {
   "cell_type": "code",
   "execution_count": null,
   "metadata": {},
   "outputs": [],
   "source": [
    "def weighted_mean(sims):\n",
    "    summ=0\n",
    "    simi = [x[0] for x in sims]\n",
    "    rate = [x[1] for x in sims]\n",
    "    for i in range(len(sims)):\n",
    "        summ+=simi[i]*rate[i]\n",
    "    v = summ/sum(simi)\n",
    "    if np.isnan(v):\n",
    "        return 0\n",
    "    return round(v,4)"
   ]
  },
  {
   "cell_type": "code",
   "execution_count": null,
   "metadata": {},
   "outputs": [],
   "source": [
    "def weighted_mean2(sims):\n",
    "    summ=0\n",
    "    simi = [x[0] for x in sims]\n",
    "    rate = [x[1] for x in sims]\n",
    "    for val in simi:\n",
    "        if val<0:                       #a check for the existence of a false positive in the cluster\n",
    "            #print('here')\n",
    "            return (round(sum(rate)/len(rate),4) - 1)  #penalty\n",
    "    for i in range(len(sims)):\n",
    "        summ+=simi[i]*rate[i]\n",
    "    v = summ/sum(simi)\n",
    "    if np.isnan(v):\n",
    "        return 0\n",
    "    return round(v,4)"
   ]
  },
  {
   "cell_type": "code",
   "execution_count": null,
   "metadata": {},
   "outputs": [],
   "source": [
    "def user_based(id,n_hood,k):\n",
    "    movie_dic=[]\n",
    "    for n in range(k):\n",
    "        dfn=[]\n",
    "        user_vecs=[[] for i in range(7045)]\n",
    "        with open('cluster'+str(n)+'.csv','r',buffering=4000000,encoding='utf-8') as file:\n",
    "                for line in file:\n",
    "                    dfn.append(line.replace('\\n','').split(','))\n",
    "                    for i in range(7045):\n",
    "                        user_vecs[i].append(dfn[-1][i+1])      #because movie title is at index 0\n",
    "        movie_dic.extend(user_wise(id,n_hood,dfn,user_vecs))\n",
    "        #print(n)\n",
    "    return sorted(movie_dic,key=lambda x: x[1],reverse=True)[:20]"
   ]
  },
  {
   "cell_type": "code",
   "execution_count": null,
   "metadata": {},
   "outputs": [],
   "source": [
    "main()"
   ]
  },
  {
   "cell_type": "code",
   "execution_count": null,
   "metadata": {},
   "outputs": [],
   "source": []
  },
  {
   "cell_type": "code",
   "execution_count": null,
   "metadata": {},
   "outputs": [],
   "source": []
  }
 ],
 "metadata": {
  "kernelspec": {
   "display_name": "Python 3",
   "language": "python",
   "name": "python3"
  },
  "language_info": {
   "codemirror_mode": {
    "name": "ipython",
    "version": 3
   },
   "file_extension": ".py",
   "mimetype": "text/x-python",
   "name": "python",
   "nbconvert_exporter": "python",
   "pygments_lexer": "ipython3",
   "version": "3.7.4"
  }
 },
 "nbformat": 4,
 "nbformat_minor": 2
}
