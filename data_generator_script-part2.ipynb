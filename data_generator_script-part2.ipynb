{
 "cells": [
  {
   "cell_type": "code",
   "execution_count": null,
   "metadata": {},
   "outputs": [],
   "source": [
    "import pandas as pd\n",
    "#df_tgenome = pd.read_csv('genome-tags.csv')"
   ]
  },
  {
   "cell_type": "code",
   "execution_count": null,
   "metadata": {},
   "outputs": [],
   "source": [
    "df_genre = pd.read_csv('movies.csv')#for genre as it is\n",
    "df_ratings = pd.read_csv('ratings.csv')#for ratings with mordification"
   ]
  },
  {
   "cell_type": "code",
   "execution_count": null,
   "metadata": {},
   "outputs": [],
   "source": [
    "#modelling dataset for genre"
   ]
  },
  {
   "cell_type": "code",
   "execution_count": null,
   "metadata": {},
   "outputs": [],
   "source": [
    "df_movies = df_genre.set_index('movieId')\n",
    "df_movies.genres=df_movies.genres.apply(lambda x: x.replace('|',' '))\n",
    "df_movies.title=df_movies.title.apply(lambda x: x.replace(',',' '))    #removing commas since they disturb importation\n",
    "#df_movies.head(20)"
   ]
  },
  {
   "cell_type": "code",
   "execution_count": null,
   "metadata": {},
   "outputs": [],
   "source": [
    "#modelling dataset for ratings"
   ]
  },
  {
   "cell_type": "code",
   "execution_count": null,
   "metadata": {},
   "outputs": [],
   "source": [
    "import numpy as np\n"
   ]
  },
  {
   "cell_type": "code",
   "execution_count": null,
   "metadata": {},
   "outputs": [],
   "source": [
    "dfr_new=df_ratings.groupby(['movieId','userId']).rating.mean().unstack()\n",
    "#dfrn=dfr_new.apply(lambda x: x - np.mean(x))\n",
    "#dfrn=dfrn.fillna(0)\n",
    "ratings = pd.merge(df_movies,dfr_new,left_index=True,right_index=True,how='inner').drop(columns='genres')\n",
    "ratings.head()"
   ]
  },
  {
   "cell_type": "code",
   "execution_count": null,
   "metadata": {},
   "outputs": [],
   "source": [
    "ratings_csv=ratings.to_csv('item_based.csv',header=False,index=False)"
   ]
  },
  {
   "cell_type": "code",
   "execution_count": null,
   "metadata": {},
   "outputs": [],
   "source": []
  }
 ],
 "metadata": {
  "kernelspec": {
   "display_name": "Python 3",
   "language": "python",
   "name": "python3"
  },
  "language_info": {
   "codemirror_mode": {
    "name": "ipython",
    "version": 3
   },
   "file_extension": ".py",
   "mimetype": "text/x-python",
   "name": "python",
   "nbconvert_exporter": "python",
   "pygments_lexer": "ipython3",
   "version": "3.7.4"
  }
 },
 "nbformat": 4,
 "nbformat_minor": 2
}
